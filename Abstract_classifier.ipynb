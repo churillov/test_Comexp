{
  "nbformat": 4,
  "nbformat_minor": 0,
  "metadata": {
    "colab": {
      "name": "Untitled0.ipynb",
      "provenance": []
    },
    "kernelspec": {
      "name": "python3",
      "display_name": "Python 3"
    },
    "language_info": {
      "name": "python"
    }
  },
  "cells": [
    {
      "cell_type": "code",
      "source": [
        "from google.colab import drive\n",
        "drive.mount('/content/drive')"
      ],
      "metadata": {
        "colab": {
          "base_uri": "https://localhost:8080/"
        },
        "id": "43Pkj6lPEc-T",
        "outputId": "70bd183c-c3ff-4b6a-e876-c3b4af425b0c"
      },
      "execution_count": 1,
      "outputs": [
        {
          "output_type": "stream",
          "name": "stdout",
          "text": [
            "Drive already mounted at /content/drive; to attempt to forcibly remount, call drive.mount(\"/content/drive\", force_remount=True).\n"
          ]
        }
      ]
    },
    {
      "cell_type": "markdown",
      "source": [
        "# Импорт модулей"
      ],
      "metadata": {
        "id": "C4UNwmH4MGS4"
      }
    },
    {
      "cell_type": "code",
      "source": [
        "import tensorflow as tf\n",
        "import pandas as pd\n",
        "import numpy as np\n",
        "import matplotlib.pyplot as plt\n",
        "from sklearn.model_selection import train_test_split"
      ],
      "metadata": {
        "id": "_N8ZbbD-msqQ"
      },
      "execution_count": 2,
      "outputs": []
    },
    {
      "cell_type": "markdown",
      "source": [
        "# Функция для конвертации из бинарного формата в csv формат\n",
        "Функция convert конвертирует входные файлы для данных (train-images-idx3-ubyte), и для меток (train-labels.idx1-ubyte) в csv формат с которым будет удобно работать. В первый столбец сохраняются метки данные сохраняются последовательно в следующие столбцы"
      ],
      "metadata": {
        "id": "P9Fhm2_0MEMl"
      }
    },
    {
      "cell_type": "code",
      "source": [
        "def convert(imgf, labelf, outf, n):\n",
        "    f = open(imgf, \"rb\")\n",
        "    o = open(outf, \"w\")\n",
        "    l = open(labelf, \"rb\")\n",
        "\n",
        "    f.read(16)\n",
        "    l.read(8)\n",
        "    images = []\n",
        "\n",
        "    for i in range(n):\n",
        "        image = [ord(l.read(1))]\n",
        "        for j in range(16*16):\n",
        "            image.append(ord(f.read(1)))\n",
        "        images.append(image)\n",
        "\n",
        "    for image in images:\n",
        "        o.write(\",\".join(str(pix) for pix in image)+\"\\n\")\n",
        "    f.close()\n",
        "    o.close()\n",
        "    l.close()\n",
        "\n",
        "convert(\"/content/drive/MyDrive/2/Classes (optional)/train-images-idx3-ubyte/train-images-idx3-ubyte\", \n",
        "        \"/content/drive/MyDrive/2/Classes (optional)/train-labels-idx1-ubyte/train-labels-idx1-ubyte\",\n",
        "        \"/content/drive/MyDrive/2/Classes (optional)/train.csv\", 100000)"
      ],
      "metadata": {
        "id": "KP_XU9YiqZ5D"
      },
      "execution_count": 3,
      "outputs": []
    },
    {
      "cell_type": "markdown",
      "source": [
        "# Считываем файл данных \n",
        "В переменную df считываем файл (train.csv) задаем для него названия колонок (col_name). В переменную label добавляем первый столбец файла train.csv, удаляя его из df.\n"
      ],
      "metadata": {
        "id": "ckGQG1wRM5bl"
      }
    },
    {
      "cell_type": "code",
      "source": [
        "col_name = ['label'] + list(range(0, 256))\n",
        "df = pd.read_csv('/content/drive/MyDrive/2/Classes (optional)/train.csv', header=None, names=col_name)\n",
        "print(df['label'].unique())\n",
        "label = df['label'].copy().to_numpy()\n",
        "df.drop(['label'], axis=1, inplace=True)"
      ],
      "metadata": {
        "id": "0W4mKqcDuabN",
        "colab": {
          "base_uri": "https://localhost:8080/"
        },
        "outputId": "662810d5-3256-4a46-cebb-1f823ef6ec44"
      },
      "execution_count": 4,
      "outputs": [
        {
          "output_type": "stream",
          "name": "stdout",
          "text": [
            "[0 1 2 3 4 5 6 7 8 9]\n"
          ]
        }
      ]
    },
    {
      "cell_type": "code",
      "source": [
        "plt.figure(figsize=(10, 10)) \n",
        "for i in range(9):\n",
        "  plt.subplot(3, 3, i + 1)\n",
        "\n",
        "  img = df.iloc[i * 10000].to_numpy().reshape(16, 16)\n",
        "  plt.imshow(img)\n",
        "  plt.title(label=i, loc='center')\n",
        "plt.show()"
      ],
      "metadata": {
        "colab": {
          "base_uri": "https://localhost:8080/",
          "height": 607
        },
        "id": "14kTOLIGDwYi",
        "outputId": "aa9a9e07-1e2f-4b62-bf3e-42c4c6776637"
      },
      "execution_count": 5,
      "outputs": [
        {
          "output_type": "display_data",
          "data": {
            "text/plain": [
              "<Figure size 720x720 with 9 Axes>"
            ],
            "image/png": "[encoded data removed]"
          },
          "metadata": {
            "needs_background": "light"
          }
        }
      ]
    },
    {
      "cell_type": "code",
      "source": [
        "def scale_data(train_images, test_images):\n",
        "    \"\"\"\n",
        "    Эта функция принимает тренировочные и тестовые изображения, и масштабирует их.\n",
        "    так, чтобы они имели минимальное и максимальное значения, равные 0 и 1 соответственно.\n",
        "    \"\"\"\n",
        "    train_images = train_images / 255\n",
        "    test_images = test_images / 255\n",
        "\n",
        "    return train_images, test_images"
      ],
      "metadata": {
        "id": "HVVlYYRcElA3"
      },
      "execution_count": 6,
      "outputs": []
    },
    {
      "cell_type": "markdown",
      "source": [
        "# Функция в которой задаем архитектуру модели с помощью метода tf.keras.Sequential\n",
        "\n",
        "Архитектура модели:\n",
        "\n",
        "1) Сверточный слой Conv2D принимает количество фильтров, размер фильтра 3 на 3, \n",
        "padding='SAME' значает, что когда картинка передасться в следующий слой размер картинки не изменится, функция активации relu, и входной размер картинки\n",
        "\n",
        "2) Слой пулинга MaxPooling2D передаем размер фильтра 2 на 2, уменьшает размер катринки в 2 раза\n",
        "\n",
        "3) Flatten нужен, что бы выход последнего слоя пулинга превратить в массив с одним измерением.\n",
        "\n",
        "4) Dense полносвязные слои нейронов, передаем количество нейронов, функция активации relu для двух предпоследних слоев. Функция активации softmax для последнего слоя и 10 нейронов так как значений предсказываемой перенной тоже 10.\n",
        "Функция softmax выдает верояность принадлежности к классу."
      ],
      "metadata": {
        "id": "iw0AXZGlJEc_"
      }
    },
    {
      "cell_type": "code",
      "source": [
        "def get_model(input_shape):\n",
        "    \"\"\"\n",
        "    Функция должна построить последовательную модель\n",
        "    \"\"\"\n",
        "    model = tf.keras.Sequential([\n",
        "        tf.keras.layers.Conv2D(8, (3, 3), padding='SAME', activation='relu', input_shape=input_shape),\n",
        "        tf.keras.layers.MaxPooling2D((2, 2)),\n",
        "        tf.keras.layers.Flatten(),\n",
        "        tf.keras.layers.Dense(16, activation='relu'),\n",
        "        tf.keras.layers.Dense(10, activation='softmax')\n",
        "    ])\n",
        "\n",
        "    return model"
      ],
      "metadata": {
        "id": "oiBFDavIEmSg"
      },
      "execution_count": 7,
      "outputs": []
    },
    {
      "cell_type": "markdown",
      "source": [
        "# Функция компиляции  модели\n",
        "\n",
        "Оптимизатор tf.keras.optimizers.Adam() метод для нахождения градиентов\n",
        "\n",
        "Функция потерь sparse_categorical_crossentropy, так как мы не преобразуем классы с помощью one hot encoding то будем использовать данную функцию потерь\n",
        "\n",
        "Метрика качества accuracy, описывает общую точность предсказания модели по всем классам.\n"
      ],
      "metadata": {
        "id": "UohRDaOBLHmE"
      }
    },
    {
      "cell_type": "code",
      "source": [
        "def compile_model(model):\n",
        "    \"\"\"\n",
        "    Функция принимает модель, возвращенную функцией get_model, и компилирует ее с помощью оптимизатора.\n",
        "    \"\"\"\n",
        "\n",
        "    opt = tf.keras.optimizers.Adam()\n",
        "\n",
        "    model.compile(optimizer=opt,\n",
        "                  loss='sparse_categorical_crossentropy',\n",
        "                  metrics=[\"accuracy\"])"
      ],
      "metadata": {
        "id": "Oq0L3ss9EnpH"
      },
      "execution_count": 8,
      "outputs": []
    },
    {
      "cell_type": "code",
      "source": [
        "def train_model(model, scaled_train_images, train_labels, validation_set):\n",
        "    \"\"\"\n",
        "    Эта функция должна обучать модель в течение 5 эпох на scaled_train_images и train_labels.\n",
        "    Функция должна возвращать историю обучения, возвращаемую model.fit.\n",
        "    \"\"\"\n",
        "\n",
        "    history = model.fit(scaled_train_images,\n",
        "                        train_labels,\n",
        "                        epochs=5,\n",
        "                        batch_size=32,\n",
        "                        steps_per_epoch = 250,\n",
        "                        validation_data=validation_set)\n",
        "\n",
        "    return history"
      ],
      "metadata": {
        "id": "F7wOkXydEpQn"
      },
      "execution_count": 9,
      "outputs": []
    },
    {
      "cell_type": "markdown",
      "source": [
        "# Разделим данные на тренировачные и тестовые\n",
        "\n",
        "В переменную array_mnist из df добавим все данные предварительно превратив df в массив numpy и поменяв размерность данных на (100000, 16, 16). Получается 100000 картинок размерностью 16 на 16 пикселя\n",
        "\n",
        "Разделим данные на тренировачные и тестовые с помощью функции train_test_split, размер тестовых данных составит 25 процентов от общего количества данных"
      ],
      "metadata": {
        "id": "q17d2wqmOEbG"
      }
    },
    {
      "cell_type": "code",
      "source": [
        "array_mnist = df.copy().to_numpy().reshape((100000, 16, 16))\n",
        "train_images, test_images, train_labels,  test_labels = train_test_split(array_mnist, label, test_size=0.25)"
      ],
      "metadata": {
        "id": "jn0A6iueLsj2"
      },
      "execution_count": 10,
      "outputs": []
    },
    {
      "cell_type": "markdown",
      "source": [
        "# Обработка данных\n",
        "\n",
        "С помощью функции scale_data отмаштабируем тренировачные и тестовые данные. Далее добавим к данным дополнительную размерность "
      ],
      "metadata": {
        "id": "J3GFYJ6xPLqh"
      }
    },
    {
      "cell_type": "code",
      "source": [
        "scaled_train_images, scaled_test_images = scale_data(train_images, test_images)\n",
        "scaled_train_images = scaled_train_images[..., np.newaxis]\n",
        "scaled_test_images = scaled_test_images[..., np.newaxis]\n",
        "scaled_test_images.shape"
      ],
      "metadata": {
        "colab": {
          "base_uri": "https://localhost:8080/"
        },
        "id": "Vh8NmE-CLt0W",
        "outputId": "5df861b4-cb63-4eba-8254-e9c4683a3f30"
      },
      "execution_count": 11,
      "outputs": [
        {
          "output_type": "execute_result",
          "data": {
            "text/plain": [
              "(25000, 16, 16, 1)"
            ]
          },
          "metadata": {},
          "execution_count": 11
        }
      ]
    },
    {
      "cell_type": "markdown",
      "source": [
        "# Создание модели и компиляция модели\n",
        "\n",
        "С помощью функции get_model создаим архитектуру модели передав в нее размеры входных данных\n",
        "\n",
        "С помощью функции compile_model скомпилируем модель"
      ],
      "metadata": {
        "id": "RDDfUE1kPi9d"
      }
    },
    {
      "cell_type": "code",
      "source": [
        "model = get_model(scaled_train_images[0].shape)\n",
        "model.summary()\n",
        "compile_model(model)"
      ],
      "metadata": {
        "colab": {
          "base_uri": "https://localhost:8080/"
        },
        "id": "CvvLKaD9LvRm",
        "outputId": "4e6d939d-9b56-4c83-914f-3844d9f079d9"
      },
      "execution_count": 12,
      "outputs": [
        {
          "output_type": "stream",
          "name": "stdout",
          "text": [
            "Model: \"sequential\"\n",
            "_________________________________________________________________\n",
            " Layer (type)                Output Shape              Param #   \n",
            "=================================================================\n",
            " conv2d (Conv2D)             (None, 16, 16, 8)         80        \n",
            "                                                                 \n",
            " max_pooling2d (MaxPooling2D  (None, 8, 8, 8)          0         \n",
            " )                                                               \n",
            "                                                                 \n",
            " flatten (Flatten)           (None, 512)               0         \n",
            "                                                                 \n",
            " dense (Dense)               (None, 16)                8208      \n",
            "                                                                 \n",
            " dense_1 (Dense)             (None, 10)                170       \n",
            "                                                                 \n",
            "=================================================================\n",
            "Total params: 8,458\n",
            "Trainable params: 8,458\n",
            "Non-trainable params: 0\n",
            "_________________________________________________________________\n"
          ]
        }
      ]
    },
    {
      "cell_type": "markdown",
      "source": [
        "# Обучаем модель\n",
        "\n",
        "В перемнную history сохранится информация о значениях функции потерь, метрики качества для каждой эпохи обучения.\n",
        "\n",
        "Добавим историю обучения в фрейм данных frame"
      ],
      "metadata": {
        "id": "n1gn_lLLQFIE"
      }
    },
    {
      "cell_type": "code",
      "source": [
        "VALIDATION_SET = (scaled_test_images, test_labels)\n",
        "\n",
        "history = train_model(model, scaled_train_images, train_labels, VALIDATION_SET)"
      ],
      "metadata": {
        "colab": {
          "base_uri": "https://localhost:8080/"
        },
        "id": "UFzbEfrWQBK1",
        "outputId": "80a118a5-9d43-40c3-9860-3a8fe6f58af2"
      },
      "execution_count": 13,
      "outputs": [
        {
          "output_type": "stream",
          "name": "stdout",
          "text": [
            "Epoch 1/5\n",
            "250/250 [==============================] - 5s 16ms/step - loss: 0.3834 - accuracy: 0.9150 - val_loss: 0.0057 - val_accuracy: 1.0000\n",
            "Epoch 2/5\n",
            "250/250 [==============================] - 4s 16ms/step - loss: 0.0028 - accuracy: 1.0000 - val_loss: 0.0014 - val_accuracy: 1.0000\n",
            "Epoch 3/5\n",
            "250/250 [==============================] - 4s 16ms/step - loss: 9.1096e-04 - accuracy: 1.0000 - val_loss: 6.0439e-04 - val_accuracy: 1.0000\n",
            "Epoch 4/5\n",
            "250/250 [==============================] - 4s 16ms/step - loss: 4.5864e-04 - accuracy: 1.0000 - val_loss: 3.4033e-04 - val_accuracy: 1.0000\n",
            "Epoch 5/5\n",
            "250/250 [==============================] - 3s 13ms/step - loss: 2.7110e-04 - accuracy: 1.0000 - val_loss: 2.1767e-04 - val_accuracy: 1.0000\n"
          ]
        }
      ]
    },
    {
      "cell_type": "markdown",
      "source": [
        "# Визуализируем функцию потерь и accuracy \n",
        "Добавим историю обучения в фрейм данных frame"
      ],
      "metadata": {
        "id": "5dlwHmdFH0Y0"
      }
    },
    {
      "cell_type": "code",
      "source": [
        "frame = pd.DataFrame(history.history)\n",
        "\n",
        "fig, ax=plt.subplots(nrows=1, ncols=2, figsize=(10, 5))\n",
        "frame['loss'].plot(title=\"Loss vs Epochs\",  ax=ax[0], grid= True, legend=True)\n",
        "frame['accuracy'].plot(ax=ax[1], title=\"accuracy vs Epochs\", grid= True, legend=True)\n",
        "frame['val_loss'].plot(title=\"Loss vs Epochs\",  ax=ax[0], grid= True, legend=True)\n",
        "frame['val_accuracy'].plot(ax=ax[1], title=\"accuracy vs Epochs\", grid= True, legend=True)\n",
        "ax[0].set_ylabel('loss')\n",
        "ax[0].set_xlabel('epoch')\n",
        "ax[1].set_ylabel('accuracy')\n",
        "ax[1].set_xlabel('epoch')\n",
        "plt.tight_layout()\n",
        "plt.show()"
      ],
      "metadata": {
        "colab": {
          "base_uri": "https://localhost:8080/",
          "height": 369
        },
        "id": "c7rJwjLnATkI",
        "outputId": "a841c462-aba0-41b7-df2d-67ec9e1fea60"
      },
      "execution_count": 14,
      "outputs": [
        {
          "output_type": "display_data",
          "data": {
            "text/plain": [
              "<Figure size 720x360 with 2 Axes>"
            ],
            "image/png": "[encoded data removed]"
          },
          "metadata": {
            "needs_background": "light"
          }
        }
      ]
    },
    {
      "cell_type": "markdown",
      "source": [
        "# Тестируем модель"
      ],
      "metadata": {
        "id": "292PsxKrInHN"
      }
    },
    {
      "cell_type": "code",
      "source": [
        "random_inx = np.random.choice(scaled_test_images.shape[0], 4)\n",
        "random_test_images = scaled_test_images[random_inx, ...]\n",
        "random_test_labels = test_labels[random_inx, ...]\n",
        "\n",
        "predictions = model.predict(random_test_images)\n",
        "\n",
        "fig, axes = plt.subplots(4, 2, figsize=(16, 12))\n",
        "fig.subplots_adjust(hspace=0.4, wspace=-0.2)\n",
        "\n",
        "for i, (prediction, image, label) in enumerate(zip(predictions, random_test_images, random_test_labels)):\n",
        "    axes[i, 0].imshow(np.squeeze(image))\n",
        "    axes[i, 0].get_xaxis().set_visible(False)\n",
        "    axes[i, 0].get_yaxis().set_visible(False)\n",
        "    axes[i, 0].text(10., -1.5, f'Digit {label}')\n",
        "    axes[i, 1].bar(np.arange(len(prediction)), prediction)\n",
        "    axes[i, 1].set_xticks(np.arange(len(prediction)))\n",
        "    axes[i, 1].set_title(f\"Categorical distribution. Model prediction: {np.argmax(prediction)}\")\n",
        "\n",
        "plt.show()"
      ],
      "metadata": {
        "colab": {
          "base_uri": "https://localhost:8080/",
          "height": 716
        },
        "id": "oZO-AZQaAZ8M",
        "outputId": "525aac00-38a0-4571-ef9d-996fd754adbd"
      },
      "execution_count": 15,
      "outputs": [
        {
          "output_type": "display_data",
          "data": {
            "text/plain": [
              "<Figure size 1152x864 with 8 Axes>"
            ],
            "image/png": "[encoded data removed]"
          },
          "metadata": {
            "needs_background": "light"
          }
        }
      ]
    },
    {
      "cell_type": "code",
      "source": [
        ""
      ],
      "metadata": {
        "id": "EeISSqaAQuTJ"
      },
      "execution_count": 15,
      "outputs": []
    }
  ]
}