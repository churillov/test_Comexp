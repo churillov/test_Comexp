{
  "nbformat": 4,
  "nbformat_minor": 0,
  "metadata": {
    "colab": {
      "name": "Untitled0.ipynb",
      "provenance": []
    },
    "kernelspec": {
      "name": "python3",
      "display_name": "Python 3"
    },
    "language_info": {
      "name": "python"
    },
    "accelerator": "GPU"
  },
  "cells": [
    {
      "cell_type": "markdown",
      "source": [
        "# Импорт модулей"
      ],
      "metadata": {
        "id": "C4UNwmH4MGS4"
      }
    },
    {
      "cell_type": "code",
      "source": [
        "import tensorflow as tf\n",
        "import pandas as pd\n",
        "import numpy as np\n",
        "import matplotlib.pyplot as plt\n",
        "from sklearn.model_selection import train_test_split"
      ],
      "metadata": {
        "id": "_N8ZbbD-msqQ"
      },
      "execution_count": 1,
      "outputs": []
    },
    {
      "cell_type": "markdown",
      "source": [
        "# Функция для конвертации из бинарного формата в csv формат\n",
        "Функция convert конвертирует входные файлы для данных (train-images-idx3-ubyte-32x32), и для меток (train-labels.idx1-ubyte) в csv формат с которым будет удобно работать. В первый столбец сохраняются метки данные сохраняются последовательно в следующие столбцы"
      ],
      "metadata": {
        "id": "P9Fhm2_0MEMl"
      }
    },
    {
      "cell_type": "code",
      "source": [
        "def convert(imgf, labelf, outf, n):\n",
        "    f = open(imgf, \"rb\")\n",
        "    o = open(outf, \"w\")\n",
        "    l = open(labelf, \"rb\")\n",
        "\n",
        "    f.read(16)\n",
        "    l.read(8)\n",
        "    images = []\n",
        "\n",
        "    for i in range(n):\n",
        "        image = [ord(l.read(1))]\n",
        "        for j in range(32*32):\n",
        "            image.append(ord(f.read(1)))\n",
        "        images.append(image)\n",
        "\n",
        "    for image in images:\n",
        "        o.write(\",\".join(str(pix) for pix in image)+\"\\n\")\n",
        "    f.close()\n",
        "    o.close()\n",
        "    l.close()\n",
        "\n",
        "convert(\"/content/drive/MyDrive/2/Classes (simple)/10000/train-images-idx3-ubyte-32x32/train-images-idx3-ubyte-32x32\", \n",
        "        \"/content/drive/MyDrive/2/Classes (simple)/10000/train-labels-idx1-ubyte/train-labels.idx1-ubyte\",\n",
        "        \"/content/drive/MyDrive/2/Classes (simple)/10000/train.csv\", 10000)"
      ],
      "metadata": {
        "id": "KP_XU9YiqZ5D"
      },
      "execution_count": 2,
      "outputs": []
    },
    {
      "cell_type": "markdown",
      "source": [
        "# Считываем файл данных \n",
        "В переменную df считываем файл (train.csv) задаем для него названия колонок (col_name). В переменную label добавляем первый столбец файла train.csv, удаляя его из df.\n"
      ],
      "metadata": {
        "id": "ckGQG1wRM5bl"
      }
    },
    {
      "cell_type": "code",
      "source": [
        "col_name = ['label'] + list(range(0, 1024))\n",
        "df = pd.read_csv('/content/drive/MyDrive/2/Classes (simple)/10000/train.csv', header=None, names=col_name)\n",
        "label = df['label'].copy().to_numpy()\n",
        "df.drop(['label'], axis=1, inplace=True)"
      ],
      "metadata": {
        "id": "0W4mKqcDuabN"
      },
      "execution_count": 3,
      "outputs": []
    },
    {
      "cell_type": "code",
      "source": [
        "def scale_mnist_data(train_images, test_images):\n",
        "    \"\"\"\n",
        "    Эта функция принимает тренировочные и тестовые изображения, и масштабирует их.\n",
        "    так, чтобы они имели минимальное и максимальное значения, равные 0 и 1 соответственно.\n",
        "    \"\"\"\n",
        "    train_images = train_images / 255\n",
        "    test_images = test_images / 255\n",
        "\n",
        "    return train_images, test_images"
      ],
      "metadata": {
        "id": "HVVlYYRcElA3"
      },
      "execution_count": 4,
      "outputs": []
    },
    {
      "cell_type": "markdown",
      "source": [
        "# Функция в которой задаем архитектуру модели с помощью метода tf.keras.Sequential\n",
        "\n",
        "Архитектура модели:\n",
        "\n",
        "1) Сверточный слой Conv2D принимает количество фильтров, размер фильтра 3 на 3, \n",
        "padding='SAME' значает, что когда картинка передасться в следующий слой размер картинки не изменится, функция активации relu, и входной размер картинки\n",
        "\n",
        "2) Слой пулинга MaxPooling2D передаем размер фильтра 2 на 2, уменьшает размер катринки в 2 раза\n",
        "\n",
        "3) Flatten нужен, что бы выход последнего слоя пулинга превратить в массив с одним измерением.\n",
        "\n",
        "4) Dense полносвязные слои нейронов, передаем количество нейронов, функция активации relu для двух предпоследних слоев. Функция активации softmax для последнего слоя и 10 нейронов так как значений предсказываемой перенной тоже 10.\n",
        "Функция softmax выдает верояность принадлежности к классу."
      ],
      "metadata": {
        "id": "iw0AXZGlJEc_"
      }
    },
    {
      "cell_type": "code",
      "source": [
        "def get_model(input_shape):\n",
        "    \"\"\"\n",
        "    Функция должна построить последовательную модель\n",
        "    \"\"\"\n",
        "    model = tf.keras.Sequential([\n",
        "        tf.keras.layers.Conv2D(8, (3, 3), padding='SAME', activation='relu', input_shape=input_shape),\n",
        "        tf.keras.layers.MaxPooling2D((2, 2)),\n",
        "        tf.keras.layers.Flatten(),\n",
        "        tf.keras.layers.Dense(64, activation='relu'),\n",
        "        tf.keras.layers.Dense(64, activation='relu'),\n",
        "        tf.keras.layers.Dense(10, activation='softmax')\n",
        "    ])\n",
        "\n",
        "    return model"
      ],
      "metadata": {
        "id": "oiBFDavIEmSg"
      },
      "execution_count": 5,
      "outputs": []
    },
    {
      "cell_type": "markdown",
      "source": [
        "# Функция компиляции  модели\n",
        "\n",
        "Оптимизатор tf.keras.optimizers.Adam() метод для нахождения градиентов\n",
        "\n",
        "Функция потерь sparse_categorical_crossentropy, так как мы не преобразуем классы с помощью one hot encoding то будем использовать данную функцию потерь\n",
        "\n",
        "Метрика качества accuracy, описывает общую точность предсказания модели по всем классам.\n"
      ],
      "metadata": {
        "id": "UohRDaOBLHmE"
      }
    },
    {
      "cell_type": "code",
      "source": [
        "def compile_model(model):\n",
        "    \"\"\"\n",
        "    Функция принимает модель, возвращенную функцией get_model, и компилирует ее с помощью оптимизатора.\n",
        "    \"\"\"\n",
        "\n",
        "    opt = tf.keras.optimizers.Adam()\n",
        "\n",
        "    model.compile(optimizer=opt,\n",
        "                  loss='sparse_categorical_crossentropy',\n",
        "                  metrics=[\"accuracy\"])"
      ],
      "metadata": {
        "id": "Oq0L3ss9EnpH"
      },
      "execution_count": 6,
      "outputs": []
    },
    {
      "cell_type": "code",
      "source": [
        "def train_model(model, scaled_train_images, train_labels, validation_set):\n",
        "    \"\"\"\n",
        "    Эта функция должна обучать модель в течение 5 эпох на scaled_train_images и train_labels.\n",
        "    Функция должна возвращать историю обучения, возвращаемую model.fit.\n",
        "    \"\"\"\n",
        "\n",
        "    history = model.fit(scaled_train_images, train_labels, epochs=20, batch_size=256, validation_data=validation_set)\n",
        "\n",
        "    return history"
      ],
      "metadata": {
        "id": "F7wOkXydEpQn"
      },
      "execution_count": 7,
      "outputs": []
    },
    {
      "cell_type": "markdown",
      "source": [
        "# Разделим данные на тренировачные и тестовые\n",
        "\n",
        "В переменную array_mnist из df добавим все данные предварительно превратив df в массив numpy и поменяв размерность данных на (10000, 32, 32). Получается 10000 картинок размерностью 32 на 32 пикселя\n",
        "\n",
        "Разделим данные на тренировачные и тестовые с помощью функции train_test_split, размер тестовых данных составит 25 процентов от общего количества данных"
      ],
      "metadata": {
        "id": "q17d2wqmOEbG"
      }
    },
    {
      "cell_type": "code",
      "source": [
        "array_mnist = df.copy().to_numpy().reshape((10000, 32, 32))\n",
        "train_images, test_images, train_labels,  test_labels = train_test_split(array_mnist, label, test_size=0.25)"
      ],
      "metadata": {
        "id": "jn0A6iueLsj2"
      },
      "execution_count": 8,
      "outputs": []
    },
    {
      "cell_type": "markdown",
      "source": [
        "# Обработка данных\n",
        "\n",
        "С помощью функции scale_mnist_data отмаштабируем тренировачные и тестовые данные. Далее добавим к данным дополнительную размерность "
      ],
      "metadata": {
        "id": "J3GFYJ6xPLqh"
      }
    },
    {
      "cell_type": "code",
      "source": [
        "scaled_train_images, scaled_test_images = scale_mnist_data(train_images, test_images)\n",
        "scaled_train_images = scaled_train_images[..., np.newaxis]\n",
        "scaled_test_images = scaled_test_images[..., np.newaxis]\n",
        "scaled_test_images.shape"
      ],
      "metadata": {
        "colab": {
          "base_uri": "https://localhost:8080/"
        },
        "id": "Vh8NmE-CLt0W",
        "outputId": "2cd1f885-8db0-495d-9fcb-a45eb5f9186e"
      },
      "execution_count": 9,
      "outputs": [
        {
          "output_type": "execute_result",
          "data": {
            "text/plain": [
              "(2500, 32, 32, 1)"
            ]
          },
          "metadata": {},
          "execution_count": 9
        }
      ]
    },
    {
      "cell_type": "markdown",
      "source": [
        "# Создание модели и компиляция модели\n",
        "\n",
        "С помощью функции get_model создаим архитектуру модели передав в нее размеры входных данных\n",
        "\n",
        "С помощью функции compile_model скомпилируем модель"
      ],
      "metadata": {
        "id": "RDDfUE1kPi9d"
      }
    },
    {
      "cell_type": "code",
      "source": [
        "model = get_model(scaled_train_images[0].shape)\n",
        "model.summary()\n",
        "compile_model(model)"
      ],
      "metadata": {
        "colab": {
          "base_uri": "https://localhost:8080/"
        },
        "id": "CvvLKaD9LvRm",
        "outputId": "3010c2dc-a72b-4851-efdd-05be922d6c4d"
      },
      "execution_count": 10,
      "outputs": [
        {
          "output_type": "stream",
          "name": "stdout",
          "text": [
            "Model: \"sequential\"\n",
            "_________________________________________________________________\n",
            " Layer (type)                Output Shape              Param #   \n",
            "=================================================================\n",
            " conv2d (Conv2D)             (None, 32, 32, 8)         80        \n",
            "                                                                 \n",
            " max_pooling2d (MaxPooling2D  (None, 16, 16, 8)        0         \n",
            " )                                                               \n",
            "                                                                 \n",
            " flatten (Flatten)           (None, 2048)              0         \n",
            "                                                                 \n",
            " dense (Dense)               (None, 64)                131136    \n",
            "                                                                 \n",
            " dense_1 (Dense)             (None, 64)                4160      \n",
            "                                                                 \n",
            " dense_2 (Dense)             (None, 10)                650       \n",
            "                                                                 \n",
            "=================================================================\n",
            "Total params: 136,026\n",
            "Trainable params: 136,026\n",
            "Non-trainable params: 0\n",
            "_________________________________________________________________\n"
          ]
        }
      ]
    },
    {
      "cell_type": "markdown",
      "source": [
        "# Обучаем модель\n",
        "\n",
        "В перемнную history сохранится информация о значениях функции потерь, метрики качества для каждой эпохи обучения.\n",
        "\n",
        "Добавим историю обучения в фрейм данных frame"
      ],
      "metadata": {
        "id": "n1gn_lLLQFIE"
      }
    },
    {
      "cell_type": "code",
      "source": [
        "VALIDATION_SET = (scaled_test_images, test_labels)\n",
        "\n",
        "history = train_model(model, scaled_train_images, train_labels, VALIDATION_SET)"
      ],
      "metadata": {
        "colab": {
          "base_uri": "https://localhost:8080/"
        },
        "id": "UFzbEfrWQBK1",
        "outputId": "2cca23c9-90c4-4c7e-97a0-11b6d3b5deae"
      },
      "execution_count": 11,
      "outputs": [
        {
          "output_type": "stream",
          "name": "stdout",
          "text": [
            "Epoch 1/20\n",
            "30/30 [==============================] - 3s 14ms/step - loss: 1.7029 - accuracy: 0.5873 - val_loss: 0.8269 - val_accuracy: 0.8192\n",
            "Epoch 2/20\n",
            "30/30 [==============================] - 0s 7ms/step - loss: 0.5280 - accuracy: 0.8580 - val_loss: 0.3879 - val_accuracy: 0.8968\n",
            "Epoch 3/20\n",
            "30/30 [==============================] - 0s 6ms/step - loss: 0.3380 - accuracy: 0.9000 - val_loss: 0.3107 - val_accuracy: 0.9152\n",
            "Epoch 4/20\n",
            "30/30 [==============================] - 0s 6ms/step - loss: 0.2720 - accuracy: 0.9203 - val_loss: 0.2711 - val_accuracy: 0.9248\n",
            "Epoch 5/20\n",
            "30/30 [==============================] - 0s 6ms/step - loss: 0.2370 - accuracy: 0.9297 - val_loss: 0.2589 - val_accuracy: 0.9276\n",
            "Epoch 6/20\n",
            "30/30 [==============================] - 0s 6ms/step - loss: 0.2048 - accuracy: 0.9392 - val_loss: 0.2263 - val_accuracy: 0.9352\n",
            "Epoch 7/20\n",
            "30/30 [==============================] - 0s 6ms/step - loss: 0.1791 - accuracy: 0.9484 - val_loss: 0.2077 - val_accuracy: 0.9400\n",
            "Epoch 8/20\n",
            "30/30 [==============================] - 0s 6ms/step - loss: 0.1560 - accuracy: 0.9571 - val_loss: 0.1953 - val_accuracy: 0.9416\n",
            "Epoch 9/20\n",
            "30/30 [==============================] - 0s 7ms/step - loss: 0.1369 - accuracy: 0.9609 - val_loss: 0.1838 - val_accuracy: 0.9448\n",
            "Epoch 10/20\n",
            "30/30 [==============================] - 0s 7ms/step - loss: 0.1221 - accuracy: 0.9651 - val_loss: 0.1886 - val_accuracy: 0.9400\n",
            "Epoch 11/20\n",
            "30/30 [==============================] - 0s 6ms/step - loss: 0.1088 - accuracy: 0.9704 - val_loss: 0.1647 - val_accuracy: 0.9460\n",
            "Epoch 12/20\n",
            "30/30 [==============================] - 0s 6ms/step - loss: 0.0942 - accuracy: 0.9753 - val_loss: 0.1617 - val_accuracy: 0.9504\n",
            "Epoch 13/20\n",
            "30/30 [==============================] - 0s 6ms/step - loss: 0.0828 - accuracy: 0.9787 - val_loss: 0.1414 - val_accuracy: 0.9548\n",
            "Epoch 14/20\n",
            "30/30 [==============================] - 0s 7ms/step - loss: 0.0756 - accuracy: 0.9813 - val_loss: 0.1473 - val_accuracy: 0.9560\n",
            "Epoch 15/20\n",
            "30/30 [==============================] - 0s 8ms/step - loss: 0.0680 - accuracy: 0.9828 - val_loss: 0.1450 - val_accuracy: 0.9556\n",
            "Epoch 16/20\n",
            "30/30 [==============================] - 0s 7ms/step - loss: 0.0614 - accuracy: 0.9848 - val_loss: 0.1333 - val_accuracy: 0.9572\n",
            "Epoch 17/20\n",
            "30/30 [==============================] - 0s 6ms/step - loss: 0.0520 - accuracy: 0.9879 - val_loss: 0.1367 - val_accuracy: 0.9580\n",
            "Epoch 18/20\n",
            "30/30 [==============================] - 0s 6ms/step - loss: 0.0475 - accuracy: 0.9897 - val_loss: 0.1346 - val_accuracy: 0.9592\n",
            "Epoch 19/20\n",
            "30/30 [==============================] - 0s 6ms/step - loss: 0.0417 - accuracy: 0.9913 - val_loss: 0.1308 - val_accuracy: 0.9584\n",
            "Epoch 20/20\n",
            "30/30 [==============================] - 0s 6ms/step - loss: 0.0379 - accuracy: 0.9920 - val_loss: 0.1299 - val_accuracy: 0.9588\n"
          ]
        }
      ]
    },
    {
      "cell_type": "markdown",
      "source": [
        "# Визуализируем функцию потерь и accuracy \n",
        "Добавим историю обучения в фрейм данных frame"
      ],
      "metadata": {
        "id": "5dlwHmdFH0Y0"
      }
    },
    {
      "cell_type": "code",
      "source": [
        "frame.head()"
      ],
      "metadata": {
        "colab": {
          "base_uri": "https://localhost:8080/",
          "height": 206
        },
        "id": "Q-T2ANmyzDbn",
        "outputId": "57f095ea-1e9a-4895-c05f-982960fb0841"
      },
      "execution_count": 17,
      "outputs": [
        {
          "output_type": "execute_result",
          "data": {
            "text/plain": [
              "       loss  accuracy  val_loss  val_accuracy\n",
              "0  1.702854  0.587333  0.826867        0.8192\n",
              "1  0.528044  0.858000  0.387909        0.8968\n",
              "2  0.338009  0.900000  0.310743        0.9152\n",
              "3  0.271986  0.920267  0.271094        0.9248\n",
              "4  0.237028  0.929733  0.258915        0.9276"
            ],
            "text/html": [
              "\n",
              "  <div id=\"df-7d47e259-e879-4322-8704-5810a5033d62\">\n",
              "    <div class=\"colab-df-container\">\n",
              "      <div>\n",
              "<style scoped>\n",
              "    .dataframe tbody tr th:only-of-type {\n",
              "        vertical-align: middle;\n",
              "    }\n",
              "\n",
              "    .dataframe tbody tr th {\n",
              "        vertical-align: top;\n",
              "    }\n",
              "\n",
              "    .dataframe thead th {\n",
              "        text-align: right;\n",
              "    }\n",
              "</style>\n",
              "<table border=\"1\" class=\"dataframe\">\n",
              "  <thead>\n",
              "    <tr style=\"text-align: right;\">\n",
              "      <th></th>\n",
              "      <th>loss</th>\n",
              "      <th>accuracy</th>\n",
              "      <th>val_loss</th>\n",
              "      <th>val_accuracy</th>\n",
              "    </tr>\n",
              "  </thead>\n",
              "  <tbody>\n",
              "    <tr>\n",
              "      <th>0</th>\n",
              "      <td>1.702854</td>\n",
              "      <td>0.587333</td>\n",
              "      <td>0.826867</td>\n",
              "      <td>0.8192</td>\n",
              "    </tr>\n",
              "    <tr>\n",
              "      <th>1</th>\n",
              "      <td>0.528044</td>\n",
              "      <td>0.858000</td>\n",
              "      <td>0.387909</td>\n",
              "      <td>0.8968</td>\n",
              "    </tr>\n",
              "    <tr>\n",
              "      <th>2</th>\n",
              "      <td>0.338009</td>\n",
              "      <td>0.900000</td>\n",
              "      <td>0.310743</td>\n",
              "      <td>0.9152</td>\n",
              "    </tr>\n",
              "    <tr>\n",
              "      <th>3</th>\n",
              "      <td>0.271986</td>\n",
              "      <td>0.920267</td>\n",
              "      <td>0.271094</td>\n",
              "      <td>0.9248</td>\n",
              "    </tr>\n",
              "    <tr>\n",
              "      <th>4</th>\n",
              "      <td>0.237028</td>\n",
              "      <td>0.929733</td>\n",
              "      <td>0.258915</td>\n",
              "      <td>0.9276</td>\n",
              "    </tr>\n",
              "  </tbody>\n",
              "</table>\n",
              "</div>\n",
              "      <button class=\"colab-df-convert\" onclick=\"convertToInteractive('df-7d47e259-e879-4322-8704-5810a5033d62')\"\n",
              "              title=\"Convert this dataframe to an interactive table.\"\n",
              "              style=\"display:none;\">\n",
              "        \n",
              "  <svg xmlns=\"http://www.w3.org/2000/svg\" height=\"24px\"viewBox=\"0 0 24 24\"\n",
              "       width=\"24px\">\n",
              "    <path d=\"M0 0h24v24H0V0z\" fill=\"none\"/>\n",
              "    <path d=\"M18.56 5.44l.94 2.06.94-2.06 2.06-.94-2.06-.94-.94-2.06-.94 2.06-2.06.94zm-11 1L8.5 8.5l.94-2.06 2.06-.94-2.06-.94L8.5 2.5l-.94 2.06-2.06.94zm10 10l.94 2.06.94-2.06 2.06-.94-2.06-.94-.94-2.06-.94 2.06-2.06.94z\"/><path d=\"M17.41 7.96l-1.37-1.37c-.4-.4-.92-.59-1.43-.59-.52 0-1.04.2-1.43.59L10.3 9.45l-7.72 7.72c-.78.78-.78 2.05 0 2.83L4 21.41c.39.39.9.59 1.41.59.51 0 1.02-.2 1.41-.59l7.78-7.78 2.81-2.81c.8-.78.8-2.07 0-2.86zM5.41 20L4 18.59l7.72-7.72 1.47 1.35L5.41 20z\"/>\n",
              "  </svg>\n",
              "      </button>\n",
              "      \n",
              "  <style>\n",
              "    .colab-df-container {\n",
              "      display:flex;\n",
              "      flex-wrap:wrap;\n",
              "      gap: 12px;\n",
              "    }\n",
              "\n",
              "    .colab-df-convert {\n",
              "      background-color: #E8F0FE;\n",
              "      border: none;\n",
              "      border-radius: 50%;\n",
              "      cursor: pointer;\n",
              "      display: none;\n",
              "      fill: #1967D2;\n",
              "      height: 32px;\n",
              "      padding: 0 0 0 0;\n",
              "      width: 32px;\n",
              "    }\n",
              "\n",
              "    .colab-df-convert:hover {\n",
              "      background-color: #E2EBFA;\n",
              "      box-shadow: 0px 1px 2px rgba(60, 64, 67, 0.3), 0px 1px 3px 1px rgba(60, 64, 67, 0.15);\n",
              "      fill: #174EA6;\n",
              "    }\n",
              "\n",
              "    [theme=dark] .colab-df-convert {\n",
              "      background-color: #3B4455;\n",
              "      fill: #D2E3FC;\n",
              "    }\n",
              "\n",
              "    [theme=dark] .colab-df-convert:hover {\n",
              "      background-color: #434B5C;\n",
              "      box-shadow: 0px 1px 3px 1px rgba(0, 0, 0, 0.15);\n",
              "      filter: drop-shadow(0px 1px 2px rgba(0, 0, 0, 0.3));\n",
              "      fill: #FFFFFF;\n",
              "    }\n",
              "  </style>\n",
              "\n",
              "      <script>\n",
              "        const buttonEl =\n",
              "          document.querySelector('#df-7d47e259-e879-4322-8704-5810a5033d62 button.colab-df-convert');\n",
              "        buttonEl.style.display =\n",
              "          google.colab.kernel.accessAllowed ? 'block' : 'none';\n",
              "\n",
              "        async function convertToInteractive(key) {\n",
              "          const element = document.querySelector('#df-7d47e259-e879-4322-8704-5810a5033d62');\n",
              "          const dataTable =\n",
              "            await google.colab.kernel.invokeFunction('convertToInteractive',\n",
              "                                                     [key], {});\n",
              "          if (!dataTable) return;\n",
              "\n",
              "          const docLinkHtml = 'Like what you see? Visit the ' +\n",
              "            '<a target=\"_blank\" href=https://colab.research.google.com/notebooks/data_table.ipynb>data table notebook</a>'\n",
              "            + ' to learn more about interactive tables.';\n",
              "          element.innerHTML = '';\n",
              "          dataTable['output_type'] = 'display_data';\n",
              "          await google.colab.output.renderOutput(dataTable, element);\n",
              "          const docLink = document.createElement('div');\n",
              "          docLink.innerHTML = docLinkHtml;\n",
              "          element.appendChild(docLink);\n",
              "        }\n",
              "      </script>\n",
              "    </div>\n",
              "  </div>\n",
              "  "
            ]
          },
          "metadata": {},
          "execution_count": 17
        }
      ]
    },
    {
      "cell_type": "code",
      "source": [
        "frame = pd.DataFrame(history.history)\n",
        "\n",
        "fig, ax=plt.subplots(nrows=1, ncols=2, figsize=(10, 5))\n",
        "frame['loss'].plot(title=\"Loss vs Epochs\",  ax=ax[0], grid= True, legend=True)\n",
        "frame['accuracy'].plot(ax=ax[1], title=\"accuracy vs Epochs\", grid= True, legend=True)\n",
        "frame['val_loss'].plot(title=\"Loss vs Epochs\",  ax=ax[0], grid= True, legend=True)\n",
        "frame['val_accuracy'].plot(ax=ax[1], title=\"accuracy vs Epochs\", grid= True, legend=True)\n",
        "ax[0].set_ylabel('loss')\n",
        "ax[0].set_xlabel('epoch')\n",
        "ax[1].set_ylabel('accuracy')\n",
        "ax[1].set_xlabel('epoch')\n",
        "plt.tight_layout()\n",
        "plt.show()"
      ],
      "metadata": {
        "colab": {
          "base_uri": "https://localhost:8080/",
          "height": 369
        },
        "id": "c7rJwjLnATkI",
        "outputId": "2d0aecca-4203-4519-f598-2d146cfe6d7e"
      },
      "execution_count": 20,
      "outputs": [
        {
          "output_type": "display_data",
          "data": {
            "text/plain": [
              "<Figure size 720x360 with 2 Axes>"
            ],
            "image/png": "[encoded data removed]"
          },
          "metadata": {
            "needs_background": "light"
          }
        }
      ]
    },
    {
      "cell_type": "markdown",
      "source": [
        "# Тестируем модель"
      ],
      "metadata": {
        "id": "292PsxKrInHN"
      }
    },
    {
      "cell_type": "code",
      "source": [
        "random_inx = np.random.choice(scaled_test_images.shape[0], 4)\n",
        "random_test_images = scaled_test_images[random_inx, ...]\n",
        "random_test_labels = test_labels[random_inx, ...]\n",
        "\n",
        "predictions = model.predict(random_test_images)\n",
        "\n",
        "fig, axes = plt.subplots(4, 2, figsize=(16, 12))\n",
        "fig.subplots_adjust(hspace=0.4, wspace=-0.2)\n",
        "\n",
        "for i, (prediction, image, label) in enumerate(zip(predictions, random_test_images, random_test_labels)):\n",
        "    axes[i, 0].imshow(np.squeeze(image))\n",
        "    axes[i, 0].get_xaxis().set_visible(False)\n",
        "    axes[i, 0].get_yaxis().set_visible(False)\n",
        "    axes[i, 0].text(10., -1.5, f'Digit {label}')\n",
        "    axes[i, 1].bar(np.arange(len(prediction)), prediction)\n",
        "    axes[i, 1].set_xticks(np.arange(len(prediction)))\n",
        "    axes[i, 1].set_title(f\"Categorical distribution. Model prediction: {np.argmax(prediction)}\")\n",
        "\n",
        "plt.show()"
      ],
      "metadata": {
        "colab": {
          "base_uri": "https://localhost:8080/",
          "height": 716
        },
        "id": "oZO-AZQaAZ8M",
        "outputId": "69e9d63e-cfdd-4d3e-c182-a0795a334979"
      },
      "execution_count": 13,
      "outputs": [
        {
          "output_type": "display_data",
          "data": {
            "text/plain": [
              "<Figure size 1152x864 with 8 Axes>"
            ],
            "image/png": "[encoded data removed]"
          },
          "metadata": {
            "needs_background": "light"
          }
        }
      ]
    }
  ]
}